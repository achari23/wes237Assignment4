{
 "cells": [
  {
   "cell_type": "code",
   "execution_count": 22,
   "id": "e889a1ad",
   "metadata": {},
   "outputs": [],
   "source": [
    "from pynq.overlays.base import BaseOverlay\n",
    "import time\n",
    "from datetime import datetime\n",
    "base = BaseOverlay(\"base.bit\")\n",
    "import threading\n",
    "btns = base.btns_gpio\n",
    "import random\n",
    "import socket "
   ]
  },
  {
   "cell_type": "code",
   "execution_count": 23,
   "id": "606432b4",
   "metadata": {},
   "outputs": [],
   "source": [
    "%%microblaze base.PMODB\n",
    "\n",
    "#include \"gpio.h\"\n",
    "#include \"pyprintf.h\"\n",
    "\n",
    "//Function to turn on/off a selected pin of PMODB\n",
    "void write_gpio(unsigned int pin, unsigned int val){\n",
    "    if (val > 1){\n",
    "        pyprintf(\"pin value must be 0 or 1\");\n",
    "    }\n",
    "    \n",
    "    gpio pin_out = gpio_open(pin);\n",
    "    gpio_set_direction(pin_out, GPIO_OUT);\n",
    "    gpio_write(pin_out, val);\n",
    "}\n",
    "\n",
    "void reset_gpio() {\n",
    "    write_gpio(1,0);\n",
    "    write_gpio(2,0);\n",
    "    write_gpio(3,0);\n",
    "    write_gpio(0,0);\n",
    "}"
   ]
  },
  {
   "cell_type": "code",
   "execution_count": 24,
   "id": "a1397483",
   "metadata": {},
   "outputs": [],
   "source": [
    "def buzz(tone, num_beeps): \n",
    "    for i in range(num_beeps):\n",
    "        write_gpio(0,1)\n",
    "        time.sleep(1/(2*tone))\n",
    "        write_gpio(0,0)\n",
    "        time.sleep(1/(2*tone))"
   ]
  },
  {
   "cell_type": "code",
   "execution_count": null,
   "id": "6d994632",
   "metadata": {},
   "outputs": [],
   "source": []
  },
  {
   "cell_type": "raw",
   "id": "01bc69a7",
   "metadata": {},
   "source": []
  },
  {
   "cell_type": "code",
   "execution_count": 25,
   "id": "c9b56da1",
   "metadata": {},
   "outputs": [],
   "source": [
    "\n",
    "def server_side():\n",
    "    #original_sigint = signal.getsignal(signal.SIGINT)\n",
    "    #signal.signal(signal.SIGINT, exit)\n",
    "    sock_l = socket.socket(socket.AF_INET, socket.SOCK_STREAM)\n",
    "    sock_l.bind(('192.168.2.99', 1237))\n",
    "    sock_l.listen()\n",
    "    print('Waiting for connection')\n",
    "    conn, addr = sock_l.accept()\n",
    "    print('Connected')\n",
    "    with conn:\n",
    "        while True:\n",
    "            data = conn.recv(1024)\n",
    "            #print(data.decode())\n",
    "            #print(type(data.decode()))\n",
    "            \n",
    "            if data.decode() == '1':\n",
    "                print(data)\n",
    "                buzz(100,50)\n",
    "               \n",
    "            elif data.decode() == '2':\n",
    "                print(data)\n",
    "                buzz(300,150)\n",
    "                \n",
    "            elif data.decode() == '4':\n",
    "                print(data)\n",
    "                buzz(500,250)\n",
    "               \n",
    "            elif data.decode() == '8': \n",
    "                print(data)\n",
    "                print(\"Client left!\")\n",
    "                break"
   ]
  },
  {
   "cell_type": "code",
   "execution_count": null,
   "id": "e5a193fa",
   "metadata": {},
   "outputs": [],
   "source": []
  },
  {
   "cell_type": "code",
   "execution_count": 26,
   "id": "7e6b1115",
   "metadata": {},
   "outputs": [],
   "source": [
    "def client():\n",
    "    sock = socket.socket(socket.AF_INET, socket.SOCK_STREAM)\n",
    "# TODO: \n",
    "    print(\"Client side running\")\n",
    "# 1: Connect the socket (sock) to the <SERVER-IP> and choosen port <LISTENING-PORT>\n",
    "    sock.connect(('192.168.2.99', 1237))\n",
    "# 2: Send the message \"Hello world!\\n\"\n",
    "    while True:\n",
    "        sock.send(bytes(str(btns.read()), 'utf-8'))\n",
    "        if btns.read() == 8: \n",
    "            print(\"Closing socket from client side\")\n",
    "            break\n",
    "# 3: Close the socket\n",
    "    sock.close()"
   ]
  },
  {
   "cell_type": "code",
   "execution_count": 27,
   "id": "fc9e8c39",
   "metadata": {},
   "outputs": [
    {
     "name": "stdout",
     "output_type": "stream",
     "text": [
      "Waiting for connection\n",
      "Client side running\n",
      "Connected\n",
      "b'1'\n",
      "b'2'\n",
      "b'4'\n",
      "b'2'\n",
      "b'1'\n",
      "b'2'\n",
      "Closing socket from client sideb'8'\n",
      "\n",
      "Client left!\n"
     ]
    }
   ],
   "source": [
    "from multiprocessing import Process\n",
    "\n",
    "if __name__ == '__main__':\n",
    "    p = Process(target=server_side)\n",
    "    f = Process(target=client)\n",
    "    p.start()\n",
    "    f.start()\n",
    "    f.join()\n",
    "    p.join()"
   ]
  },
  {
   "cell_type": "code",
   "execution_count": null,
   "id": "7dc588c0",
   "metadata": {},
   "outputs": [],
   "source": []
  }
 ],
 "metadata": {
  "kernelspec": {
   "display_name": "Python 3",
   "language": "python",
   "name": "python3"
  },
  "language_info": {
   "codemirror_mode": {
    "name": "ipython",
    "version": 3
   },
   "file_extension": ".py",
   "mimetype": "text/x-python",
   "name": "python",
   "nbconvert_exporter": "python",
   "pygments_lexer": "ipython3",
   "version": "3.8.2"
  }
 },
 "nbformat": 4,
 "nbformat_minor": 5
}
